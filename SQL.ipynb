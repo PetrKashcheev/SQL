{
 "cells": [
  {
   "cell_type": "markdown",
   "metadata": {},
   "source": [
    "# Цели Исследования"
   ]
  },
  {
   "cell_type": "markdown",
   "metadata": {},
   "source": [
    "Нашей компанией приобретена база данных крупного сервиса для чтения книг. Их необходимо проанализировать и ответить на следующие вопросы:\n",
    "- Сколько книг вышло после 1 января 2000 года?\n",
    "- Для каждой книги вывести количество обзоров и среднюю оценку\n",
    "- Определить издательство, которое выпустило наибольшее число книг толще 50 страниц\n",
    "- Определить автора с самой высокой средней оценкой книг — учитывая только книги с 50 и более оценками\n",
    "- Какое среднее количество обзоров от пользователей, которые поставили больше 50 оценок?"
   ]
  },
  {
   "cell_type": "code",
   "execution_count": 1,
   "metadata": {},
   "outputs": [],
   "source": [
    "# импортируем библиотеки\n",
    "import pandas as pd\n",
    "from sqlalchemy import create_engine\n"
   ]
  },
  {
   "cell_type": "code",
   "execution_count": 2,
   "metadata": {},
   "outputs": [],
   "source": [
    "# устанавливаем параметры\n",
    "db_config = {'user': 'praktikum_student', # имя пользователя\n",
    " 'pwd': 'Sdf4$2;d-d30pp', # пароль\n",
    " 'host': 'rc1b-wcoijxj3yxfsf3fs.mdb.yandexcloud.net',\n",
    " 'port': 6432, # порт подключения\n",
    " 'db': 'data-analyst-final-project-db'} # название базы данных\n",
    "connection_string = 'postgresql://{}:{}@{}:{}/{}'.format(db_config['user'],\n",
    " db_config['pwd'],\n",
    " db_config['host'],\n",
    " db_config['port'],\n",
    " db_config['db'])\n",
    "# сохраняем коннектор\n",
    "engine = create_engine(connection_string, connect_args={'sslmode':'require'}) "
   ]
  },
  {
   "cell_type": "markdown",
   "metadata": {},
   "source": [
    "## Посчитайте, сколько книг вышло после 1 января 2000 года;"
   ]
  },
  {
   "cell_type": "code",
   "execution_count": 4,
   "metadata": {},
   "outputs": [
    {
     "data": {
      "text/html": [
       "<div>\n",
       "<style scoped>\n",
       "    .dataframe tbody tr th:only-of-type {\n",
       "        vertical-align: middle;\n",
       "    }\n",
       "\n",
       "    .dataframe tbody tr th {\n",
       "        vertical-align: top;\n",
       "    }\n",
       "\n",
       "    .dataframe thead th {\n",
       "        text-align: right;\n",
       "    }\n",
       "</style>\n",
       "<table border=\"1\" class=\"dataframe\">\n",
       "  <thead>\n",
       "    <tr style=\"text-align: right;\">\n",
       "      <th></th>\n",
       "      <th>count</th>\n",
       "    </tr>\n",
       "  </thead>\n",
       "  <tbody>\n",
       "    <tr>\n",
       "      <th>0</th>\n",
       "      <td>821</td>\n",
       "    </tr>\n",
       "  </tbody>\n",
       "</table>\n",
       "</div>"
      ],
      "text/plain": [
       "   count\n",
       "0    821"
      ]
     },
     "execution_count": 4,
     "metadata": {},
     "output_type": "execute_result"
    }
   ],
   "source": [
    "df1 = pd.io.sql.read_sql(\"\"\" \n",
    "SELECT COUNT(book_id) \n",
    "FROM books \n",
    "WHERE EXTRACT (YEAR FROM CAST (publication_date AS date)) >= 2000\n",
    "\"\"\" , con = engine)\n",
    "df1"
   ]
  },
  {
   "cell_type": "markdown",
   "metadata": {},
   "source": [
    "821 книга"
   ]
  },
  {
   "cell_type": "markdown",
   "metadata": {},
   "source": [
    "## Для каждой книги посчитайте количество обзоров и среднюю оценку"
   ]
  },
  {
   "cell_type": "code",
   "execution_count": 5,
   "metadata": {
    "scrolled": true
   },
   "outputs": [
    {
     "data": {
      "text/html": [
       "<div>\n",
       "<style scoped>\n",
       "    .dataframe tbody tr th:only-of-type {\n",
       "        vertical-align: middle;\n",
       "    }\n",
       "\n",
       "    .dataframe tbody tr th {\n",
       "        vertical-align: top;\n",
       "    }\n",
       "\n",
       "    .dataframe thead th {\n",
       "        text-align: right;\n",
       "    }\n",
       "</style>\n",
       "<table border=\"1\" class=\"dataframe\">\n",
       "  <thead>\n",
       "    <tr style=\"text-align: right;\">\n",
       "      <th></th>\n",
       "      <th>title</th>\n",
       "      <th>count</th>\n",
       "      <th>avg</th>\n",
       "    </tr>\n",
       "  </thead>\n",
       "  <tbody>\n",
       "    <tr>\n",
       "      <th>0</th>\n",
       "      <td>V for Vendetta</td>\n",
       "      <td>3</td>\n",
       "      <td>4.222222</td>\n",
       "    </tr>\n",
       "    <tr>\n",
       "      <th>1</th>\n",
       "      <td>The Fiery Cross (Outlander  #5)</td>\n",
       "      <td>4</td>\n",
       "      <td>4.200000</td>\n",
       "    </tr>\n",
       "    <tr>\n",
       "      <th>2</th>\n",
       "      <td>The Canterbury Tales</td>\n",
       "      <td>3</td>\n",
       "      <td>3.333333</td>\n",
       "    </tr>\n",
       "    <tr>\n",
       "      <th>3</th>\n",
       "      <td>Burning Chrome (Sprawl  #0)</td>\n",
       "      <td>2</td>\n",
       "      <td>4.500000</td>\n",
       "    </tr>\n",
       "    <tr>\n",
       "      <th>4</th>\n",
       "      <td>The Summons</td>\n",
       "      <td>3</td>\n",
       "      <td>4.333333</td>\n",
       "    </tr>\n",
       "    <tr>\n",
       "      <th>...</th>\n",
       "      <td>...</td>\n",
       "      <td>...</td>\n",
       "      <td>...</td>\n",
       "    </tr>\n",
       "    <tr>\n",
       "      <th>989</th>\n",
       "      <td>The Notebook (The Notebook  #1)</td>\n",
       "      <td>5</td>\n",
       "      <td>3.868421</td>\n",
       "    </tr>\n",
       "    <tr>\n",
       "      <th>990</th>\n",
       "      <td>The Innocent Man: Murder and Injustice in a Sm...</td>\n",
       "      <td>2</td>\n",
       "      <td>4.500000</td>\n",
       "    </tr>\n",
       "    <tr>\n",
       "      <th>991</th>\n",
       "      <td>Rules of Prey (Lucas Davenport  #1)</td>\n",
       "      <td>3</td>\n",
       "      <td>3.333333</td>\n",
       "    </tr>\n",
       "    <tr>\n",
       "      <th>992</th>\n",
       "      <td>A Hunger Like No Other (Immortals After Dark  #1)</td>\n",
       "      <td>2</td>\n",
       "      <td>4.000000</td>\n",
       "    </tr>\n",
       "    <tr>\n",
       "      <th>993</th>\n",
       "      <td>Equal Rites (Discworld  #3; Witches  #1)</td>\n",
       "      <td>3</td>\n",
       "      <td>4.250000</td>\n",
       "    </tr>\n",
       "  </tbody>\n",
       "</table>\n",
       "<p>994 rows × 3 columns</p>\n",
       "</div>"
      ],
      "text/plain": [
       "                                                 title  count       avg\n",
       "0                                       V for Vendetta      3  4.222222\n",
       "1                      The Fiery Cross (Outlander  #5)      4  4.200000\n",
       "2                                 The Canterbury Tales      3  3.333333\n",
       "3                          Burning Chrome (Sprawl  #0)      2  4.500000\n",
       "4                                          The Summons      3  4.333333\n",
       "..                                                 ...    ...       ...\n",
       "989                    The Notebook (The Notebook  #1)      5  3.868421\n",
       "990  The Innocent Man: Murder and Injustice in a Sm...      2  4.500000\n",
       "991                Rules of Prey (Lucas Davenport  #1)      3  3.333333\n",
       "992  A Hunger Like No Other (Immortals After Dark  #1)      2  4.000000\n",
       "993           Equal Rites (Discworld  #3; Witches  #1)      3  4.250000\n",
       "\n",
       "[994 rows x 3 columns]"
      ]
     },
     "execution_count": 5,
     "metadata": {},
     "output_type": "execute_result"
    }
   ],
   "source": [
    "df2 = pd.io.sql.read_sql(\"\"\" \n",
    "WITH a AS(SELECT b.title, b.book_id, \n",
    "       COUNT(rev.review_id)\n",
    "FROM books AS b\n",
    "INNER JOIN reviews AS rev ON b.book_id = rev.book_id\n",
    "GROUP BY b.title, b.book_id)\n",
    "\n",
    "SELECT a.title,\n",
    "       a.count,\n",
    "       AVG(rat.rating)\n",
    "FROM a\n",
    "INNER JOIN ratings AS rat ON a.book_id = rat.book_id\n",
    "GROUP BY a.title, a.count\n",
    "\n",
    "\n",
    "\n",
    "\"\"\" , con = engine)\n",
    "df2"
   ]
  },
  {
   "cell_type": "markdown",
   "metadata": {},
   "source": [
    "Посчитано"
   ]
  },
  {
   "cell_type": "markdown",
   "metadata": {},
   "source": [
    "## Определите издательство, которое выпустило наибольшее число книг толще 50 страниц — так вы исключите из анализа брошюры;"
   ]
  },
  {
   "cell_type": "code",
   "execution_count": 7,
   "metadata": {},
   "outputs": [
    {
     "data": {
      "text/html": [
       "<div>\n",
       "<style scoped>\n",
       "    .dataframe tbody tr th:only-of-type {\n",
       "        vertical-align: middle;\n",
       "    }\n",
       "\n",
       "    .dataframe tbody tr th {\n",
       "        vertical-align: top;\n",
       "    }\n",
       "\n",
       "    .dataframe thead th {\n",
       "        text-align: right;\n",
       "    }\n",
       "</style>\n",
       "<table border=\"1\" class=\"dataframe\">\n",
       "  <thead>\n",
       "    <tr style=\"text-align: right;\">\n",
       "      <th></th>\n",
       "      <th>publisher</th>\n",
       "      <th>count</th>\n",
       "    </tr>\n",
       "  </thead>\n",
       "  <tbody>\n",
       "    <tr>\n",
       "      <th>0</th>\n",
       "      <td>Penguin Books</td>\n",
       "      <td>42</td>\n",
       "    </tr>\n",
       "  </tbody>\n",
       "</table>\n",
       "</div>"
      ],
      "text/plain": [
       "       publisher  count\n",
       "0  Penguin Books     42"
      ]
     },
     "execution_count": 7,
     "metadata": {},
     "output_type": "execute_result"
    }
   ],
   "source": [
    "df3 = pd.io.sql.read_sql(\"\"\" \n",
    "SELECT p.publisher,\n",
    "       COUNT(b.title)\n",
    "FROM books AS b\n",
    "INNER JOIN publishers AS p ON b.publisher_id = p.publisher_id\n",
    "WHERE b.num_pages > 50\n",
    "GROUP BY p.publisher\n",
    "ORDER BY COUNT(b.title) DESC\n",
    "LIMIT 1\n",
    "\n",
    "\n",
    "\n",
    "\n",
    "\"\"\" , con = engine)\n",
    "df3"
   ]
  },
  {
   "cell_type": "markdown",
   "metadata": {},
   "source": [
    "Это издательство: Penguin Books"
   ]
  },
  {
   "cell_type": "markdown",
   "metadata": {},
   "source": [
    "## Определите автора с самой высокой средней оценкой книг — учитывайте только книги с 50 и более оценками;"
   ]
  },
  {
   "cell_type": "code",
   "execution_count": 10,
   "metadata": {},
   "outputs": [
    {
     "data": {
      "text/html": [
       "<div>\n",
       "<style scoped>\n",
       "    .dataframe tbody tr th:only-of-type {\n",
       "        vertical-align: middle;\n",
       "    }\n",
       "\n",
       "    .dataframe tbody tr th {\n",
       "        vertical-align: top;\n",
       "    }\n",
       "\n",
       "    .dataframe thead th {\n",
       "        text-align: right;\n",
       "    }\n",
       "</style>\n",
       "<table border=\"1\" class=\"dataframe\">\n",
       "  <thead>\n",
       "    <tr style=\"text-align: right;\">\n",
       "      <th></th>\n",
       "      <th>author</th>\n",
       "      <th>avg</th>\n",
       "      <th>count</th>\n",
       "    </tr>\n",
       "  </thead>\n",
       "  <tbody>\n",
       "    <tr>\n",
       "      <th>0</th>\n",
       "      <td>J.K. Rowling/Mary GrandPré</td>\n",
       "      <td>4.283844</td>\n",
       "      <td>4</td>\n",
       "    </tr>\n",
       "  </tbody>\n",
       "</table>\n",
       "</div>"
      ],
      "text/plain": [
       "                       author       avg  count\n",
       "0  J.K. Rowling/Mary GrandPré  4.283844      4"
      ]
     },
     "execution_count": 10,
     "metadata": {},
     "output_type": "execute_result"
    }
   ],
   "source": [
    "df4 = pd.io.sql.read_sql(\"\"\" \n",
    "WITH c AS (SELECT b.book_id, a.author, AVG(rat.rating) AS avg_rating, COUNT(rat.rating_id)\n",
    "FROM books AS b\n",
    "JOIN ratings AS rat ON b.book_id = rat.book_id\n",
    "JOIN authors AS a ON a.author_id = b.author_id\n",
    "GROUP BY b.book_id, a.author\n",
    "HAVING COUNT(rat.rating_id) >= 50)\n",
    "\n",
    "SELECT c.author, \n",
    "       AVG(avg_rating),\n",
    "       COUNT(c.count)\n",
    "       \n",
    "FROM c\n",
    "GROUP BY c.author\n",
    "LIMIT 1\n",
    "\n",
    "\"\"\" , con = engine)\n",
    "df4"
   ]
  },
  {
   "cell_type": "markdown",
   "metadata": {},
   "source": [
    "Автор с самой высокой средней оценкой J.K. Rowling/Mary GrandPré 4.283844"
   ]
  },
  {
   "cell_type": "markdown",
   "metadata": {},
   "source": [
    "## Посчитайте среднее количество обзоров от пользователей, которые поставили больше 50 оценок."
   ]
  },
  {
   "cell_type": "code",
   "execution_count": 12,
   "metadata": {},
   "outputs": [
    {
     "data": {
      "text/html": [
       "<div>\n",
       "<style scoped>\n",
       "    .dataframe tbody tr th:only-of-type {\n",
       "        vertical-align: middle;\n",
       "    }\n",
       "\n",
       "    .dataframe tbody tr th {\n",
       "        vertical-align: top;\n",
       "    }\n",
       "\n",
       "    .dataframe thead th {\n",
       "        text-align: right;\n",
       "    }\n",
       "</style>\n",
       "<table border=\"1\" class=\"dataframe\">\n",
       "  <thead>\n",
       "    <tr style=\"text-align: right;\">\n",
       "      <th></th>\n",
       "      <th>avg</th>\n",
       "    </tr>\n",
       "  </thead>\n",
       "  <tbody>\n",
       "    <tr>\n",
       "      <th>0</th>\n",
       "      <td>24.333333</td>\n",
       "    </tr>\n",
       "  </tbody>\n",
       "</table>\n",
       "</div>"
      ],
      "text/plain": [
       "         avg\n",
       "0  24.333333"
      ]
     },
     "execution_count": 12,
     "metadata": {},
     "output_type": "execute_result"
    }
   ],
   "source": [
    "df5 = pd.io.sql.read_sql(\"\"\"\n",
    "WITH c AS (WITH a AS (SELECT username, \n",
    "COUNT(rating_id)\n",
    "FROM ratings\n",
    "GROUP BY username\n",
    "HAVING COUNT(rating_id) > 50)\n",
    "\n",
    "SELECT COUNT(rev.review_id)\n",
    "FROM a\n",
    "INNER JOIN reviews AS rev ON a.username = rev.username\n",
    "GROUP BY a.username)\n",
    "\n",
    "SELECT AVG(count)\n",
    "FROM c\n",
    "\n",
    "\"\"\" , con = engine)\n",
    "df5"
   ]
  },
  {
   "cell_type": "markdown",
   "metadata": {},
   "source": [
    "Среднее количество обзоров от пользователей которые поставили больше 50 оценок: 24,3"
   ]
  },
  {
   "cell_type": "markdown",
   "metadata": {},
   "source": [
    "# Общий вывод"
   ]
  },
  {
   "cell_type": "markdown",
   "metadata": {},
   "source": [
    "База данных исследована, ответы на вопросы получены. Можно смело создавать новый продукт :)"
   ]
  }
 ],
 "metadata": {
  "ExecuteTimeLog": [
   {
    "duration": 10176,
    "start_time": "2022-05-04T09:14:52.360Z"
   },
   {
    "duration": 253,
    "start_time": "2022-05-04T09:15:02.539Z"
   },
   {
    "duration": 19,
    "start_time": "2022-05-04T09:15:02.795Z"
   },
   {
    "duration": 66,
    "start_time": "2022-05-04T09:15:02.817Z"
   },
   {
    "duration": 84,
    "start_time": "2022-05-04T09:15:02.886Z"
   },
   {
    "duration": 79,
    "start_time": "2022-05-04T09:15:02.973Z"
   },
   {
    "duration": 77,
    "start_time": "2022-05-04T09:15:03.054Z"
   },
   {
    "duration": 72,
    "start_time": "2022-05-04T09:15:03.133Z"
   },
   {
    "duration": 8409,
    "start_time": "2022-05-05T05:20:48.958Z"
   },
   {
    "duration": 268,
    "start_time": "2022-05-05T05:20:57.369Z"
   },
   {
    "duration": 10,
    "start_time": "2022-05-05T05:20:57.639Z"
   },
   {
    "duration": 68,
    "start_time": "2022-05-05T05:20:57.651Z"
   },
   {
    "duration": 82,
    "start_time": "2022-05-05T05:20:57.722Z"
   },
   {
    "duration": 70,
    "start_time": "2022-05-05T05:20:57.806Z"
   },
   {
    "duration": 72,
    "start_time": "2022-05-05T05:20:57.878Z"
   },
   {
    "duration": 76,
    "start_time": "2022-05-05T05:20:57.952Z"
   },
   {
    "duration": 99,
    "start_time": "2022-05-05T05:29:35.990Z"
   },
   {
    "duration": 98,
    "start_time": "2022-05-05T05:29:41.297Z"
   },
   {
    "duration": 73,
    "start_time": "2022-05-05T05:36:39.946Z"
   },
   {
    "duration": 74,
    "start_time": "2022-05-05T05:36:45.587Z"
   },
   {
    "duration": 153,
    "start_time": "2022-05-05T05:40:42.671Z"
   },
   {
    "duration": 83,
    "start_time": "2022-05-05T06:11:27.396Z"
   },
   {
    "duration": 722,
    "start_time": "2022-05-05T06:11:33.276Z"
   },
   {
    "duration": 10907,
    "start_time": "2022-05-05T06:11:34.003Z"
   },
   {
    "duration": 225,
    "start_time": "2022-05-05T06:11:44.912Z"
   },
   {
    "duration": 30,
    "start_time": "2022-05-05T06:11:45.140Z"
   },
   {
    "duration": 64,
    "start_time": "2022-05-05T06:11:45.172Z"
   },
   {
    "duration": 90,
    "start_time": "2022-05-05T06:11:45.238Z"
   },
   {
    "duration": 67,
    "start_time": "2022-05-05T06:11:45.330Z"
   },
   {
    "duration": 69,
    "start_time": "2022-05-05T06:11:45.399Z"
   },
   {
    "duration": 70,
    "start_time": "2022-05-05T06:11:45.471Z"
   },
   {
    "duration": 64,
    "start_time": "2022-05-05T06:12:07.205Z"
   },
   {
    "duration": 101,
    "start_time": "2022-05-05T06:12:17.509Z"
   },
   {
    "duration": 67,
    "start_time": "2022-05-05T06:13:14.073Z"
   },
   {
    "duration": 288,
    "start_time": "2022-05-05T06:14:35.105Z"
   },
   {
    "duration": 72,
    "start_time": "2022-05-05T06:15:16.305Z"
   },
   {
    "duration": 72,
    "start_time": "2022-05-05T06:16:11.677Z"
   },
   {
    "duration": 72,
    "start_time": "2022-05-05T06:16:44.153Z"
   },
   {
    "duration": 72,
    "start_time": "2022-05-05T06:17:41.058Z"
   },
   {
    "duration": 682,
    "start_time": "2022-05-05T06:17:45.441Z"
   },
   {
    "duration": 10707,
    "start_time": "2022-05-05T06:17:46.126Z"
   },
   {
    "duration": 217,
    "start_time": "2022-05-05T06:17:56.835Z"
   },
   {
    "duration": 25,
    "start_time": "2022-05-05T06:17:57.055Z"
   },
   {
    "duration": 65,
    "start_time": "2022-05-05T06:17:57.083Z"
   },
   {
    "duration": 96,
    "start_time": "2022-05-05T06:17:57.150Z"
   },
   {
    "duration": 70,
    "start_time": "2022-05-05T06:17:57.248Z"
   },
   {
    "duration": 73,
    "start_time": "2022-05-05T06:17:57.322Z"
   },
   {
    "duration": 69,
    "start_time": "2022-05-05T06:17:57.397Z"
   },
   {
    "duration": 284,
    "start_time": "2022-05-05T06:26:29.010Z"
   },
   {
    "duration": 66,
    "start_time": "2022-05-05T06:26:37.210Z"
   },
   {
    "duration": 206,
    "start_time": "2022-05-05T06:26:53.301Z"
   },
   {
    "duration": 115,
    "start_time": "2022-05-05T06:26:56.294Z"
   },
   {
    "duration": 72,
    "start_time": "2022-05-05T06:28:28.486Z"
   },
   {
    "duration": 74,
    "start_time": "2022-05-05T06:29:34.518Z"
   },
   {
    "duration": 488,
    "start_time": "2022-05-05T06:31:05.599Z"
   },
   {
    "duration": 123,
    "start_time": "2022-05-05T06:33:56.255Z"
   },
   {
    "duration": 340,
    "start_time": "2022-05-05T06:34:47.238Z"
   },
   {
    "duration": 127,
    "start_time": "2022-05-05T06:37:43.799Z"
   },
   {
    "duration": 182,
    "start_time": "2022-05-05T06:38:18.291Z"
   },
   {
    "duration": 88,
    "start_time": "2022-05-05T06:38:33.835Z"
   },
   {
    "duration": 354,
    "start_time": "2022-05-05T06:39:38.079Z"
   },
   {
    "duration": 314,
    "start_time": "2022-05-05T06:39:46.528Z"
   },
   {
    "duration": 372,
    "start_time": "2022-05-05T06:40:19.299Z"
   },
   {
    "duration": 364,
    "start_time": "2022-05-05T06:40:28.887Z"
   },
   {
    "duration": 160,
    "start_time": "2022-05-05T06:46:10.192Z"
   },
   {
    "duration": 371,
    "start_time": "2022-05-05T06:46:27.925Z"
   },
   {
    "duration": 170,
    "start_time": "2022-05-05T06:47:31.432Z"
   },
   {
    "duration": 568,
    "start_time": "2022-05-05T06:48:28.416Z"
   },
   {
    "duration": 64,
    "start_time": "2022-05-05T06:49:59.588Z"
   },
   {
    "duration": 551,
    "start_time": "2022-05-05T06:50:27.813Z"
   },
   {
    "duration": 17072,
    "start_time": "2022-05-05T06:50:28.366Z"
   },
   {
    "duration": 221,
    "start_time": "2022-05-05T06:50:45.440Z"
   },
   {
    "duration": 29,
    "start_time": "2022-05-05T06:50:45.663Z"
   },
   {
    "duration": 67,
    "start_time": "2022-05-05T06:50:45.694Z"
   },
   {
    "duration": 95,
    "start_time": "2022-05-05T06:50:45.763Z"
   },
   {
    "duration": 84,
    "start_time": "2022-05-05T06:50:45.860Z"
   },
   {
    "duration": 68,
    "start_time": "2022-05-05T06:50:45.946Z"
   },
   {
    "duration": 231,
    "start_time": "2022-05-05T06:50:46.016Z"
   },
   {
    "duration": 0,
    "start_time": "2022-05-05T06:50:46.250Z"
   },
   {
    "duration": 0,
    "start_time": "2022-05-05T06:50:46.252Z"
   },
   {
    "duration": 0,
    "start_time": "2022-05-05T06:50:46.253Z"
   },
   {
    "duration": 75,
    "start_time": "2022-05-05T06:51:16.762Z"
   },
   {
    "duration": 67,
    "start_time": "2022-05-05T06:51:29.166Z"
   },
   {
    "duration": 87,
    "start_time": "2022-05-05T06:53:34.058Z"
   },
   {
    "duration": 199,
    "start_time": "2022-05-05T06:54:11.558Z"
   },
   {
    "duration": 5752,
    "start_time": "2022-05-05T06:54:18.522Z"
   },
   {
    "duration": 87,
    "start_time": "2022-05-05T06:55:49.387Z"
   },
   {
    "duration": 151,
    "start_time": "2022-05-05T06:57:39.787Z"
   },
   {
    "duration": 1020,
    "start_time": "2022-05-05T06:58:50.231Z"
   },
   {
    "duration": 176,
    "start_time": "2022-05-05T06:59:07.131Z"
   },
   {
    "duration": 99,
    "start_time": "2022-05-05T06:59:11.127Z"
   },
   {
    "duration": 294,
    "start_time": "2022-05-05T07:00:17.834Z"
   },
   {
    "duration": 177,
    "start_time": "2022-05-05T07:00:52.895Z"
   },
   {
    "duration": 138,
    "start_time": "2022-05-05T07:01:30.224Z"
   },
   {
    "duration": 110,
    "start_time": "2022-05-05T07:02:06.763Z"
   },
   {
    "duration": 68,
    "start_time": "2022-05-05T07:04:53.508Z"
   },
   {
    "duration": 73,
    "start_time": "2022-05-05T07:04:56.260Z"
   },
   {
    "duration": 69,
    "start_time": "2022-05-05T07:05:11.304Z"
   },
   {
    "duration": 163,
    "start_time": "2022-05-05T07:05:49.556Z"
   },
   {
    "duration": 69,
    "start_time": "2022-05-05T07:05:55.967Z"
   },
   {
    "duration": 162,
    "start_time": "2022-05-05T07:11:41.488Z"
   },
   {
    "duration": 68,
    "start_time": "2022-05-05T07:12:11.443Z"
   },
   {
    "duration": 70,
    "start_time": "2022-05-05T07:12:25.713Z"
   },
   {
    "duration": 239,
    "start_time": "2022-05-05T07:24:00.659Z"
   },
   {
    "duration": 165,
    "start_time": "2022-05-05T07:25:21.499Z"
   },
   {
    "duration": 243,
    "start_time": "2022-05-05T07:25:33.643Z"
   },
   {
    "duration": 73,
    "start_time": "2022-05-05T07:27:02.656Z"
   },
   {
    "duration": 201,
    "start_time": "2022-05-05T07:27:55.575Z"
   },
   {
    "duration": 198,
    "start_time": "2022-05-05T07:28:41.775Z"
   },
   {
    "duration": 88,
    "start_time": "2022-05-05T07:28:48.683Z"
   },
   {
    "duration": 73,
    "start_time": "2022-05-05T07:31:06.724Z"
   },
   {
    "duration": 173,
    "start_time": "2022-05-05T07:36:24.869Z"
   },
   {
    "duration": 73,
    "start_time": "2022-05-05T07:36:43.529Z"
   },
   {
    "duration": 74,
    "start_time": "2022-05-05T07:37:16.309Z"
   },
   {
    "duration": 74,
    "start_time": "2022-05-05T07:38:34.988Z"
   },
   {
    "duration": 77,
    "start_time": "2022-05-05T07:39:32.801Z"
   },
   {
    "duration": 90,
    "start_time": "2022-05-05T07:39:38.164Z"
   },
   {
    "duration": 75,
    "start_time": "2022-05-05T07:39:49.472Z"
   },
   {
    "duration": 70,
    "start_time": "2022-05-05T07:47:21.738Z"
   },
   {
    "duration": 179,
    "start_time": "2022-05-05T07:47:57.021Z"
   },
   {
    "duration": 127,
    "start_time": "2022-05-05T07:51:40.394Z"
   },
   {
    "duration": 159,
    "start_time": "2022-05-05T07:52:21.733Z"
   },
   {
    "duration": 163,
    "start_time": "2022-05-05T07:52:58.881Z"
   },
   {
    "duration": 130,
    "start_time": "2022-05-05T07:53:34.271Z"
   },
   {
    "duration": 77,
    "start_time": "2022-05-05T07:54:16.806Z"
   },
   {
    "duration": 168,
    "start_time": "2022-05-05T07:54:36.857Z"
   },
   {
    "duration": 226,
    "start_time": "2022-05-05T07:54:57.573Z"
   },
   {
    "duration": 145,
    "start_time": "2022-05-05T07:55:07.258Z"
   },
   {
    "duration": 138,
    "start_time": "2022-05-05T07:55:10.346Z"
   },
   {
    "duration": 578,
    "start_time": "2022-05-05T07:55:32.083Z"
   },
   {
    "duration": 11914,
    "start_time": "2022-05-05T07:55:32.663Z"
   },
   {
    "duration": 208,
    "start_time": "2022-05-05T07:55:44.578Z"
   },
   {
    "duration": 59,
    "start_time": "2022-05-05T07:55:44.788Z"
   },
   {
    "duration": 87,
    "start_time": "2022-05-05T07:55:44.849Z"
   },
   {
    "duration": 58,
    "start_time": "2022-05-05T07:55:44.938Z"
   },
   {
    "duration": 64,
    "start_time": "2022-05-05T07:55:44.998Z"
   },
   {
    "duration": 65,
    "start_time": "2022-05-05T07:55:45.064Z"
   },
   {
    "duration": 190,
    "start_time": "2022-05-05T07:55:45.131Z"
   },
   {
    "duration": 0,
    "start_time": "2022-05-05T07:55:45.323Z"
   },
   {
    "duration": 0,
    "start_time": "2022-05-05T07:55:45.325Z"
   },
   {
    "duration": 135,
    "start_time": "2022-05-05T07:56:57.702Z"
   },
   {
    "duration": 90,
    "start_time": "2022-05-05T07:57:31.663Z"
   },
   {
    "duration": 129,
    "start_time": "2022-05-05T07:57:40.052Z"
   },
   {
    "duration": 79,
    "start_time": "2022-05-05T07:58:39.499Z"
   },
   {
    "duration": 140,
    "start_time": "2022-05-05T07:59:10.375Z"
   },
   {
    "duration": 77,
    "start_time": "2022-05-05T07:59:59.653Z"
   },
   {
    "duration": 100,
    "start_time": "2022-05-05T08:00:13.095Z"
   },
   {
    "duration": 132,
    "start_time": "2022-05-05T08:00:21.619Z"
   },
   {
    "duration": 75,
    "start_time": "2022-05-05T08:01:10.087Z"
   },
   {
    "duration": 64,
    "start_time": "2022-05-05T08:01:27.815Z"
   },
   {
    "duration": 62,
    "start_time": "2022-05-05T08:02:28.868Z"
   },
   {
    "duration": 176,
    "start_time": "2022-05-05T08:05:44.644Z"
   },
   {
    "duration": 63,
    "start_time": "2022-05-05T08:06:43.943Z"
   },
   {
    "duration": 66,
    "start_time": "2022-05-05T08:31:37.125Z"
   },
   {
    "duration": 534,
    "start_time": "2022-05-05T08:35:37.257Z"
   },
   {
    "duration": 12558,
    "start_time": "2022-05-05T08:35:37.792Z"
   },
   {
    "duration": 202,
    "start_time": "2022-05-05T08:35:50.352Z"
   },
   {
    "duration": 55,
    "start_time": "2022-05-05T08:35:50.556Z"
   },
   {
    "duration": 68,
    "start_time": "2022-05-05T08:35:50.613Z"
   },
   {
    "duration": 55,
    "start_time": "2022-05-05T08:35:50.683Z"
   },
   {
    "duration": 61,
    "start_time": "2022-05-05T08:35:50.741Z"
   },
   {
    "duration": 66,
    "start_time": "2022-05-05T08:35:50.804Z"
   },
   {
    "duration": 120,
    "start_time": "2022-05-05T08:35:50.872Z"
   },
   {
    "duration": 59,
    "start_time": "2022-05-05T08:35:50.996Z"
   },
   {
    "duration": 62,
    "start_time": "2022-05-05T08:35:51.056Z"
   },
   {
    "duration": 63,
    "start_time": "2022-05-05T08:35:51.120Z"
   },
   {
    "duration": 63,
    "start_time": "2022-05-05T08:35:55.193Z"
   },
   {
    "duration": 61,
    "start_time": "2022-05-05T08:36:35.346Z"
   },
   {
    "duration": 61,
    "start_time": "2022-05-05T08:40:39.838Z"
   },
   {
    "duration": 272,
    "start_time": "2022-05-05T08:44:29.175Z"
   },
   {
    "duration": 183,
    "start_time": "2022-05-05T08:44:54.807Z"
   },
   {
    "duration": 62,
    "start_time": "2022-05-05T08:45:08.582Z"
   },
   {
    "duration": 60,
    "start_time": "2022-05-05T08:45:19.267Z"
   },
   {
    "duration": 187,
    "start_time": "2022-05-05T08:45:56.348Z"
   },
   {
    "duration": 60,
    "start_time": "2022-05-05T08:46:05.887Z"
   },
   {
    "duration": 60,
    "start_time": "2022-05-05T08:46:36.931Z"
   },
   {
    "duration": 160,
    "start_time": "2022-05-05T08:46:58.039Z"
   },
   {
    "duration": 151,
    "start_time": "2022-05-05T08:47:05.019Z"
   },
   {
    "duration": 61,
    "start_time": "2022-05-05T08:47:33.459Z"
   },
   {
    "duration": 600,
    "start_time": "2022-05-05T08:48:07.896Z"
   },
   {
    "duration": 13196,
    "start_time": "2022-05-05T08:48:08.498Z"
   },
   {
    "duration": 199,
    "start_time": "2022-05-05T08:48:21.698Z"
   },
   {
    "duration": 54,
    "start_time": "2022-05-05T08:48:21.899Z"
   },
   {
    "duration": 69,
    "start_time": "2022-05-05T08:48:21.955Z"
   },
   {
    "duration": 56,
    "start_time": "2022-05-05T08:48:22.025Z"
   },
   {
    "duration": 59,
    "start_time": "2022-05-05T08:48:22.083Z"
   },
   {
    "duration": 63,
    "start_time": "2022-05-05T08:48:22.145Z"
   },
   {
    "duration": 62,
    "start_time": "2022-05-05T08:48:22.210Z"
   },
   {
    "duration": 62,
    "start_time": "2022-05-05T08:48:22.275Z"
   },
   {
    "duration": 60,
    "start_time": "2022-05-05T08:49:27.236Z"
   },
   {
    "duration": 582,
    "start_time": "2022-05-05T09:04:36.879Z"
   },
   {
    "duration": 14987,
    "start_time": "2022-05-05T09:04:37.463Z"
   },
   {
    "duration": 225,
    "start_time": "2022-05-05T09:04:52.451Z"
   },
   {
    "duration": 60,
    "start_time": "2022-05-05T09:04:52.678Z"
   },
   {
    "duration": 74,
    "start_time": "2022-05-05T09:04:52.739Z"
   },
   {
    "duration": 60,
    "start_time": "2022-05-05T09:04:52.814Z"
   },
   {
    "duration": 66,
    "start_time": "2022-05-05T09:04:52.876Z"
   },
   {
    "duration": 66,
    "start_time": "2022-05-05T09:04:52.943Z"
   },
   {
    "duration": 592,
    "start_time": "2022-05-05T16:54:14.748Z"
   },
   {
    "duration": 8197,
    "start_time": "2022-05-05T16:54:15.342Z"
   },
   {
    "duration": 339,
    "start_time": "2022-05-05T16:54:23.541Z"
   },
   {
    "duration": 96,
    "start_time": "2022-05-05T16:54:23.886Z"
   },
   {
    "duration": 95,
    "start_time": "2022-05-05T16:54:23.986Z"
   },
   {
    "duration": 72,
    "start_time": "2022-05-05T16:54:24.083Z"
   },
   {
    "duration": 77,
    "start_time": "2022-05-05T16:54:24.158Z"
   },
   {
    "duration": 75,
    "start_time": "2022-05-05T16:54:24.237Z"
   },
   {
    "duration": 7,
    "start_time": "2022-05-05T16:56:11.740Z"
   },
   {
    "duration": 9,
    "start_time": "2022-05-05T16:56:22.479Z"
   },
   {
    "duration": 73,
    "start_time": "2022-05-05T17:00:21.520Z"
   },
   {
    "duration": 364,
    "start_time": "2022-05-05T17:00:49.223Z"
   },
   {
    "duration": 246,
    "start_time": "2022-05-05T17:00:55.659Z"
   },
   {
    "duration": 246,
    "start_time": "2022-05-05T17:00:58.406Z"
   },
   {
    "duration": 72,
    "start_time": "2022-05-05T17:01:36.496Z"
   },
   {
    "duration": 254,
    "start_time": "2022-05-05T17:03:31.142Z"
   },
   {
    "duration": 230,
    "start_time": "2022-05-05T17:03:39.536Z"
   },
   {
    "duration": 221,
    "start_time": "2022-05-05T17:04:05.154Z"
   },
   {
    "duration": 248,
    "start_time": "2022-05-05T17:04:14.304Z"
   },
   {
    "duration": 246,
    "start_time": "2022-05-05T17:04:27.136Z"
   },
   {
    "duration": 75,
    "start_time": "2022-05-05T17:04:38.130Z"
   },
   {
    "duration": 227,
    "start_time": "2022-05-05T17:05:21.542Z"
   },
   {
    "duration": 76,
    "start_time": "2022-05-05T17:05:25.102Z"
   },
   {
    "duration": 223,
    "start_time": "2022-05-05T17:07:01.666Z"
   },
   {
    "duration": 73,
    "start_time": "2022-05-05T17:07:08.523Z"
   },
   {
    "duration": 70,
    "start_time": "2022-05-05T17:10:58.724Z"
   },
   {
    "duration": 221,
    "start_time": "2022-05-05T17:11:40.503Z"
   },
   {
    "duration": 196,
    "start_time": "2022-05-05T17:11:50.013Z"
   },
   {
    "duration": 200,
    "start_time": "2022-05-05T17:12:26.149Z"
   },
   {
    "duration": 202,
    "start_time": "2022-05-05T17:13:16.905Z"
   },
   {
    "duration": 211,
    "start_time": "2022-05-05T17:13:23.979Z"
   },
   {
    "duration": 190,
    "start_time": "2022-05-05T17:13:54.168Z"
   },
   {
    "duration": 194,
    "start_time": "2022-05-05T17:14:07.206Z"
   },
   {
    "duration": 9,
    "start_time": "2022-05-05T17:14:27.903Z"
   },
   {
    "duration": 238,
    "start_time": "2022-05-05T17:14:31.679Z"
   },
   {
    "duration": 246,
    "start_time": "2022-05-05T17:14:55.241Z"
   },
   {
    "duration": 243,
    "start_time": "2022-05-05T17:15:11.377Z"
   },
   {
    "duration": 230,
    "start_time": "2022-05-05T17:15:37.785Z"
   },
   {
    "duration": 229,
    "start_time": "2022-05-05T17:15:40.180Z"
   },
   {
    "duration": 201,
    "start_time": "2022-05-05T17:15:58.060Z"
   },
   {
    "duration": 201,
    "start_time": "2022-05-05T17:16:17.804Z"
   },
   {
    "duration": 226,
    "start_time": "2022-05-05T17:16:33.083Z"
   },
   {
    "duration": 246,
    "start_time": "2022-05-05T17:16:46.870Z"
   },
   {
    "duration": 71,
    "start_time": "2022-05-05T17:16:59.637Z"
   },
   {
    "duration": 71,
    "start_time": "2022-05-05T17:17:02.939Z"
   },
   {
    "duration": 70,
    "start_time": "2022-05-05T17:17:22.138Z"
   },
   {
    "duration": 71,
    "start_time": "2022-05-05T17:19:14.004Z"
   },
   {
    "duration": 71,
    "start_time": "2022-05-05T17:19:31.157Z"
   },
   {
    "duration": 219,
    "start_time": "2022-05-05T17:19:42.523Z"
   },
   {
    "duration": 241,
    "start_time": "2022-05-05T17:20:05.131Z"
   },
   {
    "duration": 72,
    "start_time": "2022-05-05T17:22:47.275Z"
   },
   {
    "duration": 70,
    "start_time": "2022-05-05T17:23:26.452Z"
   },
   {
    "duration": 223,
    "start_time": "2022-05-05T17:23:56.719Z"
   },
   {
    "duration": 235,
    "start_time": "2022-05-05T17:24:57.625Z"
   },
   {
    "duration": 75,
    "start_time": "2022-05-05T17:25:10.121Z"
   },
   {
    "duration": 200,
    "start_time": "2022-05-05T17:26:24.185Z"
   },
   {
    "duration": 234,
    "start_time": "2022-05-05T17:27:22.173Z"
   },
   {
    "duration": 262,
    "start_time": "2022-05-05T17:27:35.325Z"
   },
   {
    "duration": 193,
    "start_time": "2022-05-05T17:27:53.713Z"
   },
   {
    "duration": 70,
    "start_time": "2022-05-05T17:28:03.325Z"
   },
   {
    "duration": 219,
    "start_time": "2022-05-05T17:30:24.739Z"
   },
   {
    "duration": 78,
    "start_time": "2022-05-05T17:30:29.108Z"
   },
   {
    "duration": 253,
    "start_time": "2022-05-05T17:31:16.609Z"
   },
   {
    "duration": 262,
    "start_time": "2022-05-05T17:31:39.855Z"
   },
   {
    "duration": 79,
    "start_time": "2022-05-05T17:32:14.360Z"
   },
   {
    "duration": 84,
    "start_time": "2022-05-05T17:33:04.913Z"
   },
   {
    "duration": 207,
    "start_time": "2022-05-05T17:33:36.388Z"
   },
   {
    "duration": 78,
    "start_time": "2022-05-05T17:33:43.347Z"
   },
   {
    "duration": 46,
    "start_time": "2022-05-05T17:58:56.534Z"
   },
   {
    "duration": 555,
    "start_time": "2022-05-05T17:59:03.552Z"
   },
   {
    "duration": 8757,
    "start_time": "2022-05-05T17:59:04.109Z"
   },
   {
    "duration": 274,
    "start_time": "2022-05-05T17:59:12.868Z"
   },
   {
    "duration": 64,
    "start_time": "2022-05-05T17:59:13.144Z"
   },
   {
    "duration": 77,
    "start_time": "2022-05-05T17:59:13.210Z"
   },
   {
    "duration": 7,
    "start_time": "2022-05-05T17:59:13.289Z"
   },
   {
    "duration": 67,
    "start_time": "2022-05-05T17:59:13.298Z"
   },
   {
    "duration": 69,
    "start_time": "2022-05-05T17:59:13.366Z"
   },
   {
    "duration": 66,
    "start_time": "2022-05-05T17:59:13.436Z"
   },
   {
    "duration": 231,
    "start_time": "2022-05-05T17:59:13.505Z"
   },
   {
    "duration": 157,
    "start_time": "2022-05-05T17:59:29.168Z"
   },
   {
    "duration": 162,
    "start_time": "2022-05-05T18:01:27.512Z"
   },
   {
    "duration": 75,
    "start_time": "2022-05-05T18:02:30.380Z"
   },
   {
    "duration": 72,
    "start_time": "2022-05-05T18:03:49.252Z"
   },
   {
    "duration": 177,
    "start_time": "2022-05-05T18:04:14.871Z"
   },
   {
    "duration": 157,
    "start_time": "2022-05-05T18:04:25.152Z"
   },
   {
    "duration": 74,
    "start_time": "2022-05-05T18:04:41.956Z"
   },
   {
    "duration": 74,
    "start_time": "2022-05-05T18:05:00.564Z"
   },
   {
    "duration": 72,
    "start_time": "2022-05-05T18:05:10.497Z"
   },
   {
    "duration": 1759,
    "start_time": "2022-05-05T18:06:27.960Z"
   },
   {
    "duration": 69,
    "start_time": "2022-05-05T18:07:26.009Z"
   },
   {
    "duration": 388,
    "start_time": "2022-05-05T18:08:59.013Z"
   },
   {
    "duration": 75,
    "start_time": "2022-05-05T18:09:03.892Z"
   },
   {
    "duration": 67,
    "start_time": "2022-05-05T18:09:44.360Z"
   },
   {
    "duration": 89,
    "start_time": "2022-05-05T18:12:08.137Z"
   },
   {
    "duration": 67,
    "start_time": "2022-05-05T18:13:10.833Z"
   },
   {
    "duration": 1734,
    "start_time": "2022-05-05T18:14:15.381Z"
   },
   {
    "duration": 521,
    "start_time": "2022-05-05T18:16:35.984Z"
   },
   {
    "duration": 8992,
    "start_time": "2022-05-05T18:16:36.507Z"
   },
   {
    "duration": 288,
    "start_time": "2022-05-05T18:16:45.501Z"
   },
   {
    "duration": 73,
    "start_time": "2022-05-05T18:16:45.791Z"
   },
   {
    "duration": 105,
    "start_time": "2022-05-05T18:16:45.865Z"
   },
   {
    "duration": 8,
    "start_time": "2022-05-05T18:16:45.972Z"
   },
   {
    "duration": 77,
    "start_time": "2022-05-05T18:16:45.982Z"
   },
   {
    "duration": 77,
    "start_time": "2022-05-05T18:16:46.061Z"
   },
   {
    "duration": 71,
    "start_time": "2022-05-05T18:16:46.140Z"
   },
   {
    "duration": 72,
    "start_time": "2022-05-05T18:16:46.213Z"
   },
   {
    "duration": 71,
    "start_time": "2022-05-06T09:22:01.492Z"
   },
   {
    "duration": 658,
    "start_time": "2022-05-06T09:22:08.544Z"
   },
   {
    "duration": 6494,
    "start_time": "2022-05-06T09:22:09.205Z"
   },
   {
    "duration": 247,
    "start_time": "2022-05-06T09:22:15.701Z"
   },
   {
    "duration": 64,
    "start_time": "2022-05-06T09:22:15.951Z"
   },
   {
    "duration": 81,
    "start_time": "2022-05-06T09:22:16.017Z"
   },
   {
    "duration": 10,
    "start_time": "2022-05-06T09:22:16.100Z"
   },
   {
    "duration": 69,
    "start_time": "2022-05-06T09:22:16.112Z"
   },
   {
    "duration": 70,
    "start_time": "2022-05-06T09:22:16.183Z"
   },
   {
    "duration": 71,
    "start_time": "2022-05-06T09:22:16.255Z"
   },
   {
    "duration": 65,
    "start_time": "2022-05-06T09:22:16.329Z"
   },
   {
    "duration": 65,
    "start_time": "2022-05-06T09:22:16.397Z"
   },
   {
    "duration": 74,
    "start_time": "2022-05-06T09:23:17.452Z"
   }
  ],
  "kernelspec": {
   "display_name": "Python 3 (ipykernel)",
   "language": "python",
   "name": "python3"
  },
  "language_info": {
   "codemirror_mode": {
    "name": "ipython",
    "version": 3
   },
   "file_extension": ".py",
   "mimetype": "text/x-python",
   "name": "python",
   "nbconvert_exporter": "python",
   "pygments_lexer": "ipython3",
   "version": "3.9.7"
  },
  "toc": {
   "base_numbering": 1,
   "nav_menu": {},
   "number_sections": true,
   "sideBar": true,
   "skip_h1_title": true,
   "title_cell": "Table of Contents",
   "title_sidebar": "Contents",
   "toc_cell": false,
   "toc_position": {},
   "toc_section_display": true,
   "toc_window_display": false
  }
 },
 "nbformat": 4,
 "nbformat_minor": 2
}
